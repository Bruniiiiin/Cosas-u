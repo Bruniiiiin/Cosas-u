{
 "cells": [
  {
   "cell_type": "code",
   "execution_count": null,
   "id": "88fb7a9e-3291-4727-bc46-8560ddc57969",
   "metadata": {},
   "outputs": [],
   "source": [
    "a = \"Bruno Bustos\""
   ]
  },
  {
   "cell_type": "code",
   "execution_count": null,
   "id": "1f27135d-2b82-4093-8ee9-c7f2da2baf7e",
   "metadata": {},
   "outputs": [
    {
     "data": {
      "text/plain": [
       "'sotsuB onurB'"
      ]
     },
     "execution_count": 2,
     "metadata": {},
     "output_type": "execute_result"
    }
   ],
   "source": [
    "a[::-1]"
   ]
  },
  {
   "cell_type": "code",
   "execution_count": null,
   "id": "c0ab0276-4945-4d78-8269-7f18414605fc",
   "metadata": {},
   "outputs": [
    {
     "data": {
      "text/plain": [
       "'Bruno Bustos'"
      ]
     },
     "execution_count": 3,
     "metadata": {},
     "output_type": "execute_result"
    }
   ],
   "source": [
    "a"
   ]
  },
  {
   "cell_type": "code",
   "execution_count": null,
   "id": "fe8a6c3f-7915-4e5a-950d-32322d7a48ce",
   "metadata": {},
   "outputs": [
    {
     "data": {
      "text/plain": [
       "['Bruno', 'Bustos']"
      ]
     },
     "execution_count": 4,
     "metadata": {},
     "output_type": "execute_result"
    }
   ],
   "source": [
    "a.split(\" \")"
   ]
  },
  {
   "cell_type": "code",
   "execution_count": null,
   "id": "fe577737-fd73-48c2-b913-874e57c10400",
   "metadata": {},
   "outputs": [
    {
     "data": {
      "text/plain": [
       "['Bustos', 'Bruno']"
      ]
     },
     "execution_count": 5,
     "metadata": {},
     "output_type": "execute_result"
    }
   ],
   "source": [
    "a.split(\" \")[::-1]"
   ]
  },
  {
   "cell_type": "code",
   "execution_count": null,
   "id": "9a9270aa-2dd4-45bf-98ba-5e51ef6e2d2b",
   "metadata": {},
   "outputs": [
    {
     "data": {
      "text/plain": [
       "'Bustos Bruno'"
      ]
     },
     "execution_count": 15,
     "metadata": {},
     "output_type": "execute_result"
    }
   ],
   "source": [
    "\" \".join(a.split(\" \")[::-1])"
   ]
  },
  {
   "cell_type": "code",
   "execution_count": null,
   "id": "c2a05ac6-d27c-4b21-aab9-18f83c4b3d02",
   "metadata": {},
   "outputs": [
    {
     "data": {
      "text/plain": [
       "2"
      ]
     },
     "execution_count": 18,
     "metadata": {},
     "output_type": "execute_result"
    }
   ],
   "source": [
    "2"
   ]
  },
  {
   "cell_type": "code",
   "execution_count": null,
   "id": "7dfcdd71-657d-4f24-94cf-68f52b617d06",
   "metadata": {},
   "outputs": [
    {
     "data": {
      "text/plain": [
       "'2'"
      ]
     },
     "execution_count": 17,
     "metadata": {},
     "output_type": "execute_result"
    }
   ],
   "source": [
    "str(2)"
   ]
  },
  {
   "cell_type": "code",
   "execution_count": null,
   "id": "f781d489-23eb-42d3-90c9-2d6defff0fb4",
   "metadata": {},
   "outputs": [
    {
     "data": {
      "text/plain": [
       "[1, 4, 9]"
      ]
     },
     "execution_count": 19,
     "metadata": {},
     "output_type": "execute_result"
    }
   ],
   "source": [
    "[n**2 for n in [1,2,3]]\n",
    "    "
   ]
  },
  {
   "cell_type": "code",
   "execution_count": null,
   "id": "dc1abadc-8fed-4962-8af0-ae7b715ebf61",
   "metadata": {},
   "outputs": [
    {
     "data": {
      "text/plain": [
       "['1', '2', '3']"
      ]
     },
     "execution_count": 25,
     "metadata": {},
     "output_type": "execute_result"
    }
   ],
   "source": [
    "[str(n) for n in [1,2,3]]"
   ]
  },
  {
   "cell_type": "code",
   "execution_count": null,
   "id": "589d4517-f0b8-4b85-9cfa-7e65828e156e",
   "metadata": {},
   "outputs": [
    {
     "data": {
      "text/plain": [
       "'123'"
      ]
     },
     "execution_count": 28,
     "metadata": {},
     "output_type": "execute_result"
    }
   ],
   "source": [
    "\"\".join([str(n) for n in [1,2,3]])"
   ]
  },
  {
   "cell_type": "code",
   "execution_count": null,
   "id": "3f74f50e-7be8-4cf1-87bb-ca38fe786b44",
   "metadata": {},
   "outputs": [
    {
     "data": {
      "text/plain": [
       "[0, 4, 16, 36, 64]"
      ]
     },
     "execution_count": 30,
     "metadata": {},
     "output_type": "execute_result"
    }
   ],
   "source": [
    "[n**2 for n in range(0,10,2)]"
   ]
  },
  {
   "cell_type": "code",
   "execution_count": null,
   "id": "0b148156-d0f0-4321-98e3-a73c1a950488",
   "metadata": {},
   "outputs": [],
   "source": [
    "import numpy as np"
   ]
  },
  {
   "cell_type": "code",
   "execution_count": null,
   "id": "0ff536a9-ed16-45cb-98f9-53930facd75a",
   "metadata": {},
   "outputs": [
    {
     "data": {
      "text/plain": [
       "array([ 5,  7,  9, 11, 13, 15, 17, 19])"
      ]
     },
     "execution_count": 38,
     "metadata": {},
     "output_type": "execute_result"
    }
   ],
   "source": [
    "np.arange(5,20,2)"
   ]
  },
  {
   "cell_type": "code",
   "execution_count": null,
   "id": "e0d79982-e9b4-436c-93cd-29bc253340eb",
   "metadata": {},
   "outputs": [
    {
     "data": {
      "text/plain": [
       "array([0. , 0.5, 1. , 1.5, 2. , 2.5, 3. , 3.5, 4. , 4.5, 5. ])"
      ]
     },
     "execution_count": 39,
     "metadata": {},
     "output_type": "execute_result"
    }
   ],
   "source": [
    "np.linspace(0,5,11)"
   ]
  },
  {
   "cell_type": "code",
   "execution_count": null,
   "id": "c8dbde3b-4413-4fca-a933-81b4e4a291e4",
   "metadata": {},
   "outputs": [
    {
     "data": {
      "text/plain": [
       "array([1., 1., 1., 1., 1.])"
      ]
     },
     "execution_count": 44,
     "metadata": {},
     "output_type": "execute_result"
    }
   ],
   "source": [
    "np.ones(5)"
   ]
  },
  {
   "cell_type": "code",
   "execution_count": null,
   "id": "63199004-b1b1-49f1-b3e8-d8a232043fd4",
   "metadata": {},
   "outputs": [
    {
     "data": {
      "text/plain": [
       "5"
      ]
     },
     "execution_count": 46,
     "metadata": {},
     "output_type": "execute_result"
    }
   ],
   "source": [
    "len(np.ones(5))"
   ]
  },
  {
   "cell_type": "code",
   "execution_count": null,
   "id": "b76d77e5-f0e9-4046-81b1-f452aa100dcc",
   "metadata": {},
   "outputs": [],
   "source": [
    "a = np.ones(5)"
   ]
  },
  {
   "cell_type": "code",
   "execution_count": null,
   "id": "573ab9ad-5f68-4016-9852-4f383cc3249f",
   "metadata": {},
   "outputs": [
    {
     "data": {
      "text/plain": [
       "array([1., 1., 1., 1., 1.])"
      ]
     },
     "execution_count": 52,
     "metadata": {},
     "output_type": "execute_result"
    }
   ],
   "source": [
    "a"
   ]
  },
  {
   "cell_type": "code",
   "execution_count": null,
   "id": "660020ce-3136-49d3-8b80-f472ff0441df",
   "metadata": {},
   "outputs": [
    {
     "data": {
      "text/plain": [
       "dtype('float64')"
      ]
     },
     "execution_count": 53,
     "metadata": {},
     "output_type": "execute_result"
    }
   ],
   "source": [
    "a.dtype"
   ]
  },
  {
   "cell_type": "code",
   "execution_count": null,
   "id": "6c4d0b96-0d12-4809-911e-67d3cb5598cb",
   "metadata": {},
   "outputs": [
    {
     "data": {
      "text/plain": [
       "(5,)"
      ]
     },
     "execution_count": 54,
     "metadata": {},
     "output_type": "execute_result"
    }
   ],
   "source": [
    "a.shape"
   ]
  },
  {
   "cell_type": "code",
   "execution_count": null,
   "id": "bcfc8e58-066a-4303-95c5-e04e32f9407b",
   "metadata": {},
   "outputs": [],
   "source": [
    "a = np.ones((3,5))"
   ]
  },
  {
   "cell_type": "code",
   "execution_count": null,
   "id": "3946bcee-c182-4c60-9d5f-4e87958f3699",
   "metadata": {},
   "outputs": [
    {
     "data": {
      "text/plain": [
       "array([[1., 1., 1., 1., 1.],\n",
       "       [1., 1., 1., 1., 1.],\n",
       "       [1., 1., 1., 1., 1.]])"
      ]
     },
     "execution_count": 57,
     "metadata": {},
     "output_type": "execute_result"
    }
   ],
   "source": [
    "a"
   ]
  },
  {
   "cell_type": "code",
   "execution_count": null,
   "id": "8b8dba80-1edd-4a46-a4f1-60070bbddf52",
   "metadata": {},
   "outputs": [],
   "source": [
    "b = np.arange(21)"
   ]
  },
  {
   "cell_type": "code",
   "execution_count": null,
   "id": "eb339c35-218c-4198-8903-611c0e26286a",
   "metadata": {},
   "outputs": [
    {
     "data": {
      "text/plain": [
       "array([ 0,  1,  2,  3,  4,  5,  6,  7,  8,  9, 10, 11, 12, 13, 14, 15, 16,\n",
       "       17, 18, 19])"
      ]
     },
     "execution_count": 59,
     "metadata": {},
     "output_type": "execute_result"
    }
   ],
   "source": [
    "b"
   ]
  },
  {
   "cell_type": "code",
   "execution_count": null,
   "id": "695c6137-5685-4af7-8505-1c83a07adde3",
   "metadata": {},
   "outputs": [],
   "source": [
    "B = b.reshape((3,7))"
   ]
  },
  {
   "cell_type": "code",
   "execution_count": null,
   "id": "91b1373a-5de9-4c2f-a735-7a067940c041",
   "metadata": {},
   "outputs": [
    {
     "data": {
      "text/plain": [
       "array([ 0,  1,  2,  3,  4,  5,  6,  7,  8,  9, 10, 11, 12, 13, 14, 15, 16,\n",
       "       17, 18, 19, 20])"
      ]
     },
     "execution_count": 66,
     "metadata": {},
     "output_type": "execute_result"
    }
   ],
   "source": [
    "b"
   ]
  },
  {
   "cell_type": "code",
   "execution_count": null,
   "id": "66f0f551-f183-40f4-b82b-05ddc7d727d2",
   "metadata": {},
   "outputs": [
    {
     "data": {
      "text/plain": [
       "array([[ 0,  1,  2,  3,  4,  5,  6],\n",
       "       [ 7,  8,  9, 10, 11, 12, 13],\n",
       "       [14, 15, 16, 17, 18, 19, 20]])"
      ]
     },
     "execution_count": 67,
     "metadata": {},
     "output_type": "execute_result"
    }
   ],
   "source": [
    "B"
   ]
  },
  {
   "cell_type": "code",
   "execution_count": null,
   "id": "9dca29d5-db8a-4a37-9bab-9ab50ffecc8e",
   "metadata": {},
   "outputs": [
    {
     "data": {
      "text/plain": [
       "array([0, 1, 2, 3, 4, 5, 6])"
      ]
     },
     "execution_count": 68,
     "metadata": {},
     "output_type": "execute_result"
    }
   ],
   "source": [
    "B[0]"
   ]
  },
  {
   "cell_type": "code",
   "execution_count": null,
   "id": "5c22bc1d-6060-4602-8523-4c1dfcf44eac",
   "metadata": {},
   "outputs": [
    {
     "data": {
      "text/plain": [
       "np.int64(0)"
      ]
     },
     "execution_count": 71,
     "metadata": {},
     "output_type": "execute_result"
    }
   ],
   "source": [
    "B[0,0]"
   ]
  },
  {
   "cell_type": "code",
   "execution_count": null,
   "id": "09742b36-669c-4db3-a75f-86bdb5805285",
   "metadata": {},
   "outputs": [
    {
     "data": {
      "text/plain": [
       "np.int64(10)"
      ]
     },
     "execution_count": 75,
     "metadata": {},
     "output_type": "execute_result"
    }
   ],
   "source": [
    "B[1,3]"
   ]
  },
  {
   "cell_type": "code",
   "execution_count": null,
   "id": "6843d2f2-53b1-4e9a-9688-adb02586b996",
   "metadata": {},
   "outputs": [
    {
     "data": {
      "text/plain": [
       "array([ 3, 10, 17])"
      ]
     },
     "execution_count": 73,
     "metadata": {},
     "output_type": "execute_result"
    }
   ],
   "source": [
    "B[:,3]"
   ]
  },
  {
   "cell_type": "code",
   "execution_count": null,
   "id": "8490b910-7349-4dbe-afb0-a6978a26aab0",
   "metadata": {},
   "outputs": [
    {
     "data": {
      "text/plain": [
       "array([[False, False, False, False, False, False, False],\n",
       "       [False, False, False, False,  True,  True,  True],\n",
       "       [ True,  True,  True,  True,  True,  True,  True]])"
      ]
     },
     "execution_count": 76,
     "metadata": {},
     "output_type": "execute_result"
    }
   ],
   "source": [
    "B>10"
   ]
  },
  {
   "cell_type": "code",
   "execution_count": null,
   "id": "d18ae3a7-c312-4313-9053-3740e6801a48",
   "metadata": {},
   "outputs": [],
   "source": [
    "import matplotlib.pyplot as plt"
   ]
  },
  {
   "cell_type": "code",
   "execution_count": null,
   "id": "201276f3-51eb-43bd-8bd5-6bcb4c623f3f",
   "metadata": {},
   "outputs": [
    {
     "data": {
      "text/plain": [
       "[<matplotlib.lines.Line2D at 0x2972e400a50>]"
      ]
     },
     "execution_count": 94,
     "metadata": {},
     "output_type": "execute_result"
    },
    {
     "data": {
      "image/png": "[encoded data removed]",
      "text/plain": [
       "<Figure size 640x480 with 1 Axes>"
      ]
     },
     "metadata": {},
     "output_type": "display_data"
    }
   ],
   "source": [
    "x = np.linspace(-6,6,100)\n",
    "y = np.cos(x)\n",
    "plt.plot(x, y, \"o--r\")"
   ]
  },
  {
   "cell_type": "code",
   "execution_count": null,
   "id": "1f6ea572-7cff-4440-bc3f-fbeb13294ca5",
   "metadata": {},
   "outputs": [
    {
     "data": {
      "text/plain": [
       "[<matplotlib.lines.Line2D at 0x2972e51afd0>]"
      ]
     },
     "execution_count": 97,
     "metadata": {},
     "output_type": "execute_result"
    },
    {
     "data": {
      "image/png": "[encoded data removed]",
      "text/plain": [
       "<Figure size 640x480 with 1 Axes>"
      ]
     },
     "metadata": {},
     "output_type": "display_data"
    }
   ],
   "source": [
    "x = [0, 0.5, 1, 0]\n",
    "y = [0, 1 , 0, 0]\n",
    "plt.plot(x, y)"
   ]
  },
  {
   "cell_type": "code",
   "execution_count": null,
   "id": "7d5beaac-bb7f-42be-9e50-13ee3d091572",
   "metadata": {},
   "outputs": [
    {
     "data": {
      "text/plain": [
       "120"
      ]
     },
     "execution_count": 99,
     "metadata": {},
     "output_type": "execute_result"
    }
   ],
   "source": [
    "f = 1\n",
    "for n in range(1,6):\n",
    "    f = f*n\n",
    "f    "
   ]
  },
  {
   "cell_type": "code",
   "execution_count": null,
   "id": "42a40fe5-15f3-4478-b24a-b6d0c76c5b14",
   "metadata": {},
   "outputs": [],
   "source": [
    "x = np.arange(1,18)\n",
    "y = np.zeros(x.shape, dtype=float)"
   ]
  },
  {
   "cell_type": "code",
   "execution_count": null,
   "id": "5a962d43-3f0a-43b8-83fb-3afa276b7dd6",
   "metadata": {},
   "outputs": [
    {
     "name": "stdout",
     "output_type": "stream",
     "text": [
      "1 1\n",
      "2 2\n",
      "3 6\n",
      "4 24\n",
      "5 120\n",
      "6 720\n",
      "7 5040\n",
      "8 40320\n",
      "9 362880\n",
      "10 3628800\n",
      "11 39916800\n",
      "12 479001600\n",
      "13 6227020800\n",
      "14 87178291200\n",
      "15 1307674368000\n",
      "16 20922789888000\n",
      "17 355687428096000\n"
     ]
    }
   ],
   "source": [
    "f = 1\n",
    "for i in x:\n",
    "    f = f * i\n",
    "    print(i,f)\n",
    "    y[i-1] = f"
   ]
  },
  {
   "cell_type": "code",
   "execution_count": null,
   "id": "0f023514-c02b-4a4c-abad-54addd5739cf",
   "metadata": {},
   "outputs": [
    {
     "data": {
      "text/plain": [
       "[<matplotlib.lines.Line2D at 0x2972f968910>]"
      ]
     },
     "execution_count": 139,
     "metadata": {},
     "output_type": "execute_result"
    },
    {
     "data": {
      "image/png": "[encoded data removed]",
      "text/plain": [
       "<Figure size 640x480 with 1 Axes>"
      ]
     },
     "metadata": {},
     "output_type": "display_data"
    }
   ],
   "source": [
    "plt.plot(x,y)"
   ]
  },
  {
   "cell_type": "code",
   "execution_count": 2,
   "id": "532120e8-ed50-43a5-8a71-96e5383e053f",
   "metadata": {},
   "outputs": [],
   "source": [
    "import numpy as np"
   ]
  },
  {
   "cell_type": "code",
   "execution_count": 3,
   "id": "bb533cb7-17fb-4787-8870-3093bbd25aef",
   "metadata": {
    "scrolled": true
   },
   "outputs": [
    {
     "name": "stdout",
     "output_type": "stream",
     "text": [
      "x : [3 5 1 2 5 5 8 6 9 2 3 5 8 9 2 9 6 9 2 6]\n",
      " y: [ 2 -4  1  3  0  3 -2  3 -7  1  2  3  1 -7  7 -3  3 -7  4]\n"
     ]
    }
   ],
   "source": [
    "#pregunta 2: 3.-\n",
    "n = int(input(\" n =\"))\n",
    "x = np.random.randint(0, 10, size=n)\n",
    "print(\"x :\", x)\n",
    "y = np.zeros(n-1, dtype=int)\n",
    "for i in range(n-1):\n",
    "    y[i]  = x[i+1] - x[i]\n",
    "print(\" y:\" , y )"
   ]
  },
  {
   "cell_type": "code",
   "execution_count": null,
   "id": "91dcdf05-55af-4893-8675-03aee3281570",
   "metadata": {},
   "outputs": [],
   "source": [
    "import matplotlib.pyplot as plt"
   ]
  },
  {
   "cell_type": "code",
   "execution_count": null,
   "id": "a1c32f56-1408-42dc-9142-2d8496fc8d8d",
   "metadata": {},
   "outputs": [
    {
     "data": {
      "text/plain": [
       "[<matplotlib.lines.Line2D at 0x1bba6dc9bd0>]"
      ]
     },
     "execution_count": 17,
     "metadata": {},
     "output_type": "execute_result"
    },
    {
     "data": {
      "image/png": "[encoded data removed]",
      "text/plain": [
       "<Figure size 640x480 with 1 Axes>"
      ]
     },
     "metadata": {},
     "output_type": "display_data"
    }
   ],
   "source": [
    "#Pregunta 2: 4.-\n",
    "x = np.linspace(-2*np.pi, 2*np.pi, 100)\n",
    "y = np.cos(x)\n",
    "\n",
    "plt.plot(x,y)"
   ]
  },
  {
   "cell_type": "markdown",
   "id": "93f61798",
   "metadata": {},
   "source": [
    "Pregunta 3 item a):\n",
    "\n",
    "Se nos pide demostrar que los numeros de catalan se pueden reescribir de la siguiente forma:\n",
    "\n",
    "$ c_0 = 1 $\n",
    "\n",
    "y\n",
    "\n",
    "$ c_{n+1} = \\frac{4n+2}{n+2} $\n",
    "\n",
    "Recordando que los numeros de catalan estan definidos para $n\\geq 1$ como:\n",
    "\n",
    "$ c_n = \\frac{(2n)!}{(n+1)! n!} $\n",
    "\n",
    "Ahora, primero demostraremos que $c_0=1$:\n",
    "\n",
    "$\\begin{align}\n",
    "c_0 &= \\frac{(2\\cdot 0)!}{(0+1)! \\cdot 0!} \\\\\n",
    "    &= \\frac{1}{1! \\cdot 1} \\\\\n",
    "    &= 1\n",
    "\\end{align}$\n",
    "\n",
    "Ahora queremos demostrar $c_{n+1}$:\n",
    "\n",
    "$\\begin{align}\n",
    "\\frac{c_{n+1}}{c_n} &= \\frac{\\frac{(2(n+1))!}{(n+2)! (n+1)!}}{\\frac{(2n)!}{(n+1)! n!}} \\\\\n",
    "&= \\frac{(2n+2)!}{(n+2)! (n+1)!} \\cdot \\frac{(n+1)! n!}{(2n)!} \\\\\n",
    "&= \\frac{(2n+2)! \\cdot n!}{(n+2)! (2n)!} \\\\\n",
    "&= \\frac{(2n+2)(2n+1)(2n)! \\cdot n!}{(n+2)(n+1) n! (2n)!} \\\\\n",
    "&= \\frac{(2n+2)(2n+1)}{(n+2)(n+1)} \\\\\n",
    "\\end{align}$\n",
    "\n",
    "Por lo tanto\n",
    "\n",
    "$$\n",
    "c_{n+1} = c_n \\cdot \\frac{(2n+2)(2n+1)}{(n+2)(n+1)}\n",
    "$$\n",
    "\n",
    "De esta forma demostramos que los numeros de catalan se pueden escribir asi :v \n"
   ]
  },
  {
   "cell_type": "code",
   "execution_count": 2,
   "id": "25bbba92",
   "metadata": {},
   "outputs": [],
   "source": [
    "import numpy as np\n",
    "import matplotlib.pyplot as plt"
   ]
  },
  {
   "cell_type": "code",
   "execution_count": 22,
   "id": "451a363d",
   "metadata": {},
   "outputs": [
    {
     "name": "stdout",
     "output_type": "stream",
     "text": [
      "1.0\n",
      "2.0\n",
      "5.0\n",
      "14.0\n",
      "42.0\n",
      "132.0\n",
      "429.0\n",
      "1430.0\n",
      "4862.0\n",
      "16796.0\n",
      "58786.0\n",
      "208012.0\n",
      "742900.0\n",
      "2674440.0\n",
      "9694845.0\n",
      "35357670.0\n",
      "129644790.0\n",
      "477638700.0\n",
      "1767263190.0\n",
      "6564120420.0\n",
      "24466267020.0\n",
      "91482563640.0\n",
      "343059613650.0\n",
      "1289904147324.0\n",
      "4861946401452.0\n",
      "18367353072152.0\n",
      "69533550916004.0\n",
      "263747951750360.0\n",
      "1002242216651368.0\n",
      "3814986502092304.0\n"
     ]
    },
    {
     "data": {
      "text/plain": [
       "Text(0.5, 0, '$n$')"
      ]
     },
     "execution_count": 22,
     "metadata": {},
     "output_type": "execute_result"
    },
    {
     "data": {
      "image/png": "[encoded data removed]",
      "text/plain": [
       "<Figure size 640x480 with 1 Axes>"
      ]
     },
     "metadata": {},
     "output_type": "display_data"
    }
   ],
   "source": [
    "#Pregunta 3 item b):\n",
    "M = int(input(\"M = \"))\n",
    "x = np.linspace(1, M, M)\n",
    "y = np.zeros(x.shape, dtype=float)\n",
    "c_o = 1\n",
    "y[0] = c_o\n",
    "for n in range(len(x)):\n",
    "    c_n = (4*n+2) / (n+2) * c_o\n",
    "    c_o = c_n\n",
    "    print(c_n)\n",
    "    y[n] = c_n\n",
    "plt.plot(x,y, \"o-\")\n",
    "plt.grid(True)\n",
    "plt.ylabel(\"$C_n$\")\n",
    "plt.xlabel(\"$n$\")"
   ]
  },
  {
   "cell_type": "code",
   "execution_count": 14,
   "id": "79c69acc",
   "metadata": {},
   "outputs": [
    {
     "data": {
      "image/png": "[encoded data removed]",
      "text/plain": [
       "<Figure size 640x480 with 1 Axes>"
      ]
     },
     "metadata": {},
     "output_type": "display_data"
    }
   ],
   "source": [
    "import numpy as np\n",
    "import matplotlib.pyplot as plt\n",
    "import math\n",
    "\n",
    "# Función para número de Catalan (definición)\n",
    "def catalan_def(n):\n",
    "    return math.factorial(2*n) / (math.factorial(n+1) * math.factorial(n))\n",
    "\n",
    "# Vectorizar\n",
    "catalan_vec = np.vectorize(catalan_def)\n",
    "\n",
    "# Graficar primeros 10 números\n",
    "n = np.arange(0, 10)\n",
    "y = catalan_vec(n)\n",
    "\n",
    "plt.plot(n, y, 'o-')\n",
    "plt.xlabel('n')\n",
    "plt.ylabel('C_n')\n",
    "plt.title('Números de Catalan')\n",
    "plt.grid(True)\n",
    "plt.show()"
   ]
  }
 ],
 "metadata": {
  "kernelspec": {
   "display_name": "Python 3",
   "language": "python",
   "name": "python3"
  },
  "language_info": {
   "codemirror_mode": {
    "name": "ipython",
    "version": 3
   },
   "file_extension": ".py",
   "mimetype": "text/x-python",
   "name": "python",
   "nbconvert_exporter": "python",
   "pygments_lexer": "ipython3",
   "version": "3.13.6"
  }
 },
 "nbformat": 4,
 "nbformat_minor": 5
}
