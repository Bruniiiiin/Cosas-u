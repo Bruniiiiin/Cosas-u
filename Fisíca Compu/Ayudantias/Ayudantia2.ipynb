{
 "cells": [
  {
   "cell_type": "markdown",
   "id": "721b1c1d",
   "metadata": {},
   "source": [
    "#### **Actividad: Derivación del Five point stencil**\n",
    "\n",
    "La plantilla de cinco puntos (five-point stencil) proporciona una aproximación numérica para la derivada de una función real, dada por la expresión: \n",
    "\n",
    "$$f^{(1)}(x)\\approx\\frac{f(x-2h)-8f(x-h)+8f(x+h)-f(x+2h)}{12h}$$\n",
    "\n",
    "#### **Tarea 1**\n",
    "\n",
    "Su objetivo es derivar dicha regla de derivación, valga la redundancia, mediante la manipulación (a mano) de la función usando métodos vistos en clase. (Opcional) Obtener el orden de error de truncamiento que possee dicha regla mediante el teorema de valor medio.\n",
    "#### **Tarea 2**\n",
    "Luego de entender el cómo se obtiene la plantilla de 5 puntos o \"five point stencil\" desarolle una función en Python que aplique dicha regla de derivación a una funcion cualquiera f(x)\n",
    "#### **Tarea 3**\n",
    "Aplique, finalmente, la regla de derivación a la función\n",
    "$$g(x) = \\frac{1-\\cos{x}}{x} $$\n",
    "alrededor de x=0 y compare el resultado numérico con el analítico."
   ]
  },
  {
   "cell_type": "code",
   "execution_count": null,
   "id": "a26b2613",
   "metadata": {},
   "outputs": [],
   "source": [
    "#Tarea 1"
   ]
  }
 ],
 "metadata": {
  "language_info": {
   "name": "python"
  }
 },
 "nbformat": 4,
 "nbformat_minor": 5
}
