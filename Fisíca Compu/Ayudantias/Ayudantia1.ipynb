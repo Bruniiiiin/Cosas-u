{
 "cells": [
  {
   "cell_type": "markdown",
   "id": "d3507404",
   "metadata": {},
   "source": [
    "### Ejercicio 1\n",
    "\n",
    "Necesitamos un codigo en python que nos factorice cualquier numero entero positivo de gran tamaño como el producto de dos enteros menores talque:  \n",
    "\n",
    "$ A = B \\cdot C $\n",
    "\n",
    "Donde este numero $ A \\in [1,60] $"
   ]
  },
  {
   "cell_type": "markdown",
   "id": "b88e6486",
   "metadata": {},
   "source": [
    "### Teorema Fundamental de la Aritmética\n",
    "\n",
    "Todo numero entero mayor que 1 puede escribirse de manera unica (salvo el orden de los factores) como un producto de numeros primos. Es decir, para cualquier entero $n > 1$, existen primos $p_1, p_2, \\ldots, p_k$ tales que:\n",
    "\n",
    "$$ n = p_1 \\cdot p_2 \\cdot \\ldots \\cdot p_k $$\n",
    "\n",
    "Esta descomposicion es unica excepto por el orden de los factores."
   ]
  },
  {
   "cell_type": "code",
   "execution_count": 15,
   "id": "58a57dcc",
   "metadata": {},
   "outputs": [],
   "source": [
    "import numpy as np"
   ]
  },
  {
   "cell_type": "code",
   "execution_count": 2,
   "id": "70761b6c",
   "metadata": {},
   "outputs": [],
   "source": [
    "def factoriza(a):\n",
    "    for b in range(1, a+1): #crea un ciclo que recorre todos los numeros desde 1 hasta a\n",
    "        if a % b == 0:      #al no tener resto, b es un factor de a\n",
    "            c = a // b      #calculamos el otro factor\n",
    "            if b < a and c < a:       #verificamos que ambos son<a\n",
    "                print(f\"{a} = {b} * {c}\")      #imprimimos cada uno de los factores de a"
   ]
  },
  {
   "cell_type": "code",
   "execution_count": 28,
   "id": "43154779",
   "metadata": {},
   "outputs": [
    {
     "name": "stdout",
     "output_type": "stream",
     "text": [
      "60 = 2 * 30\n",
      "60 = 3 * 20\n",
      "60 = 4 * 15\n",
      "60 = 5 * 12\n",
      "60 = 6 * 10\n",
      "60 = 10 * 6\n",
      "60 = 12 * 5\n",
      "60 = 15 * 4\n",
      "60 = 20 * 3\n",
      "60 = 30 * 2\n"
     ]
    }
   ],
   "source": [
    "a = 60\n",
    "factoriza(a)"
   ]
  },
  {
   "cell_type": "code",
   "execution_count": 3,
   "id": "6850f1df",
   "metadata": {},
   "outputs": [],
   "source": [
    "def fact(n):\n",
    "    f = 1\n",
    "    for i in range(1, n+1):\n",
    "        f = f * i\n",
    "    return f"
   ]
  },
  {
   "cell_type": "code",
   "execution_count": 4,
   "id": "9b48d7b8",
   "metadata": {},
   "outputs": [
    {
     "data": {
      "text/plain": [
       "120"
      ]
     },
     "execution_count": 4,
     "metadata": {},
     "output_type": "execute_result"
    }
   ],
   "source": [
    "fact(5)"
   ]
  },
  {
   "cell_type": "code",
   "execution_count": null,
   "id": "bc9b990b",
   "metadata": {},
   "outputs": [],
   "source": []
  }
 ],
 "metadata": {
  "kernelspec": {
   "display_name": "Python 3",
   "language": "python",
   "name": "python3"
  },
  "language_info": {
   "codemirror_mode": {
    "name": "ipython",
    "version": 3
   },
   "file_extension": ".py",
   "mimetype": "text/x-python",
   "name": "python",
   "nbconvert_exporter": "python",
   "pygments_lexer": "ipython3",
   "version": "3.13.6"
  }
 },
 "nbformat": 4,
 "nbformat_minor": 5
}
