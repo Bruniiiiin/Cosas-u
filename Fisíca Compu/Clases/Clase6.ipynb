{
 "cells": [
  {
   "cell_type": "markdown",
   "id": "cf948e73",
   "metadata": {},
   "source": [
    "Como programar una serie utilizando la siguiente idea\n",
    "\n",
    "$ \\begin{align}\n",
    "  S  &= \\sum_{n=0}^n a_n \\\\\n",
    "     &= a_0 + \\sum_{n=0}^{n-1} a_n \\\\ \n",
    "     &= \\dots\n",
    "  \\end{align}\n",
    "$"
   ]
  },
  {
   "cell_type": "code",
   "execution_count": 33,
   "id": "de363b61",
   "metadata": {},
   "outputs": [
    {
     "name": "stdout",
     "output_type": "stream",
     "text": [
      "15\n"
     ]
    }
   ],
   "source": [
    "a = [1, 2, 3, 4, 5]  #Lista de numeros\n",
    "S = 0  #valor inicial 0\n",
    "for i in range(len(a)): #Recorre la lista\n",
    "    S = S + a[i]  #Suma acumulativa\n",
    "print(S)"
   ]
  },
  {
   "cell_type": "code",
   "execution_count": 39,
   "id": "f627deb1",
   "metadata": {},
   "outputs": [],
   "source": [
    "import numpy as np"
   ]
  },
  {
   "cell_type": "markdown",
   "id": "7247af8c",
   "metadata": {},
   "source": [
    "Este codigo se puede simplificar aun mas de la siguiente forma:"
   ]
  },
  {
   "cell_type": "code",
   "execution_count": 34,
   "id": "81310593",
   "metadata": {},
   "outputs": [
    {
     "name": "stdout",
     "output_type": "stream",
     "text": [
      "15\n"
     ]
    }
   ],
   "source": [
    "a = [1, 2, 3, 4, 5]  #Lista de numeros, misma lista\n",
    "s = 0  #valor inicial 0\n",
    "for c in a:  #Recorre la lista elemento a elemento\n",
    "    s += c\n",
    "print(s)  #Suma acumulativa"
   ]
  },
  {
   "cell_type": "markdown",
   "id": "06cf5bfe",
   "metadata": {},
   "source": [
    "Ahora la definiremos como una funcion :"
   ]
  },
  {
   "cell_type": "code",
   "execution_count": 35,
   "id": "b5f9b9e8",
   "metadata": {},
   "outputs": [],
   "source": [
    "def suma(a):\n",
    "    s = 0\n",
    "    for c in a:\n",
    "        s += c\n",
    "    return s #con el valor de retorno en la misma altura que el for"
   ]
  },
  {
   "cell_type": "code",
   "execution_count": 36,
   "id": "3cd9d442",
   "metadata": {},
   "outputs": [
    {
     "data": {
      "text/plain": [
       "11"
      ]
     },
     "execution_count": 36,
     "metadata": {},
     "output_type": "execute_result"
    }
   ],
   "source": [
    "suma([1,2,3,5]) #Reconociendo nuestra nueva funcion suma como una funcion más de python sobre una lista"
   ]
  },
  {
   "cell_type": "markdown",
   "id": "e03c8963",
   "metadata": {},
   "source": [
    "Ahora queremos definir una nueva funcion que se comporte como:\n",
    "\n",
    "$ a_n = a_1 + \\sum_{n=1}^{\\infty} \\frac{1}{n!} $"
   ]
  },
  {
   "cell_type": "code",
   "execution_count": 37,
   "id": "d02ce3c2",
   "metadata": {},
   "outputs": [],
   "source": [
    "def euler(N): # Suma infinita de 1/n! (aproximada hasta que los términos sean muy pequeños)\n",
    "    s = 1     # El primer término es 1/0! = 1\n",
    "    a = 1     # Esto es 1/n!, empezando con n=0\n",
    "    for n in range(0, N): # Empezamos en n=1 porque ya contamos el n=0\n",
    "        a  = a / (n+1)    # Calcula 1/n! a partir de 1/(n-1)!\n",
    "        s += a            # Suma el término actual\n",
    "    return s"
   ]
  },
  {
   "cell_type": "code",
   "execution_count": 38,
   "id": "21fc98f7",
   "metadata": {},
   "outputs": [
    {
     "data": {
      "text/plain": [
       "2.7182818284590455"
      ]
     },
     "execution_count": 38,
     "metadata": {},
     "output_type": "execute_result"
    }
   ],
   "source": [
    "euler(100000)"
   ]
  },
  {
   "cell_type": "markdown",
   "id": "465b4850",
   "metadata": {},
   "source": [
    "Y si nos damos cuenta el valor de nuestra funcion tendiendo a numeros muy grandes converge a el numero de euler, pero nosotros queremos que el codigo decida cuando terminar, dandonos directamente el valor de $e$ :"
   ]
  },
  {
   "cell_type": "code",
   "execution_count": 55,
   "id": "049d4259",
   "metadata": {},
   "outputs": [],
   "source": [
    "def euler_m(N, eps): #la misma funcion pero con un criterio de corte\n",
    "    s = 1     \n",
    "    a = 1     \n",
    "    for n in range(0, N): \n",
    "        a  = a / (n+1)    \n",
    "        s += a \n",
    "\n",
    "        if np.abs(s - np.exp(1)) < eps: #Criterio de corte\n",
    "            return s           \n",
    "    "
   ]
  },
  {
   "cell_type": "code",
   "execution_count": 52,
   "id": "f529965b",
   "metadata": {},
   "outputs": [
    {
     "data": {
      "text/plain": [
       "2.7182818284590455"
      ]
     },
     "execution_count": 52,
     "metadata": {},
     "output_type": "execute_result"
    }
   ],
   "source": [
    "euler_m(100000, 1e-15)"
   ]
  },
  {
   "cell_type": "code",
   "execution_count": null,
   "id": "b7dd1826",
   "metadata": {},
   "outputs": [],
   "source": []
  },
  {
   "cell_type": "code",
   "execution_count": 43,
   "id": "a44fb70f",
   "metadata": {},
   "outputs": [
    {
     "name": "stdout",
     "output_type": "stream",
     "text": [
      "2.718281828459045\n"
     ]
    }
   ],
   "source": [
    "print(np.exp(1))"
   ]
  },
  {
   "cell_type": "markdown",
   "id": "bf95cfbe",
   "metadata": {},
   "source": [
    "Ahora esto nos acerca al valor real, pero nosotros exponiendo el valor final de nuestra sumatoria, siendo una definicion recursiva, por lo que intentaremos calcular el valos de $e$ sin conocerlo utilizando el siguiente criterio de convergencia:\n",
    "\n",
    "$ | s_N - s_{N-1}| < \\varepsilon_{1} $\n",
    "\n",
    "Donde este \"criterio de convergencia\" es equivalente a:\n",
    "\n",
    "$ |a_N| < \\varepsilon_{1} $"
   ]
  },
  {
   "cell_type": "code",
   "execution_count": null,
   "id": "10655663",
   "metadata": {},
   "outputs": [],
   "source": [
    "def euler_am(eps):\n",
    "    s = 1     \n",
    "    a = 1\n",
    "    n = 0    \n",
    "    while np.abs(a) > eps : \n",
    "        a  = a / (n+1)    \n",
    "        s += a\n",
    "        n +=1   #el nuevo criterio\n",
    "\n",
    "    return n, s"
   ]
  },
  {
   "cell_type": "code",
   "execution_count": 61,
   "id": "cc318b58",
   "metadata": {},
   "outputs": [
    {
     "data": {
      "text/plain": [
       "(178, 2.7182818284590455)"
      ]
     },
     "execution_count": 61,
     "metadata": {},
     "output_type": "execute_result"
    }
   ],
   "source": [
    "euler_am(1e-1000) #vemos que con un eps de 1e-1000 ya nos da 178 iteraciones y un valor bastante aproximado a e :)"
   ]
  },
  {
   "cell_type": "code",
   "execution_count": null,
   "id": "06067ffc",
   "metadata": {},
   "outputs": [],
   "source": []
  }
 ],
 "metadata": {
  "kernelspec": {
   "display_name": "Python 3",
   "language": "python",
   "name": "python3"
  },
  "language_info": {
   "codemirror_mode": {
    "name": "ipython",
    "version": 3
   },
   "file_extension": ".py",
   "mimetype": "text/x-python",
   "name": "python",
   "nbconvert_exporter": "python",
   "pygments_lexer": "ipython3",
   "version": "3.13.6"
  }
 },
 "nbformat": 4,
 "nbformat_minor": 5
}
