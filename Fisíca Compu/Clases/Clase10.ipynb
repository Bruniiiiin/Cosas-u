{
 "cells": [
  {
   "cell_type": "markdown",
   "id": "3b9f5863",
   "metadata": {},
   "source": []
  }
 ],
 "metadata": {
  "language_info": {
   "name": "python"
  }
 },
 "nbformat": 4,
 "nbformat_minor": 5
}
