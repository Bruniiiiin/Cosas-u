{
 "cells": [
  {
   "cell_type": "markdown",
   "id": "58752a91",
   "metadata": {},
   "source": [
    "### Ecuaciones dif. ordinarias de orden $N>1$"
   ]
  },
  {
   "cell_type": "markdown",
   "id": "a7e39220",
   "metadata": {},
   "source": [
    "Definimos una ecuacion Dif. Ordinaria como:\n",
    "\n",
    "\\begin{equation}\n",
    "    \\frac{dx}{dt} = f(x,t)\n",
    "\\end{equation}\n",
    "\n",
    "Como ejemplo tenemos al oscilador armonico simple(no lineal)\n",
    "\n",
    "\\begin{equation}\n",
    "    m \\vec{a} = \\vec{T} + m \\vec{g} \n",
    "\\end{equation}\n",
    "\n",
    "Sabemos que la aceleracion estara dada por $a = L \\ddot{\\theta}$, ademas descomopiendo sabemos que $a$ tiene direccion\n",
    "en $\\hat{x}$, la tension $\\hat{y} y la fuerza peso se descompone como $m\\vec{g} = mg(-sin(\\theta)\\hat{y} - cos(\\theta)\\hat{x})$\n",
    "\n",
    "entonces tenemos que:\n",
    "\n",
    "\\begin{equation}\n",
    "    mL\\ddot{\\theta} \\hat{x} = T\\hat{y} + mg(-sin(\\theta)\\hat{x} - cos(\\theta)\\hat{y})\n",
    "\\end{equation}\n",
    "\n",
    "Luego podemos escribir un sistema de ecuaciones como:\n",
    "\n",
    "\\begin{equation}\n",
    "    0 = T-mg\\sin{\\theta}\n",
    "\\end{equation}\n",
    "\n",
    "\\begin{equation}\n",
    "    mL\\ddot{\\theta} = - mg \\cos{\\theta}\n",
    "\\end{equation}\n",
    "\n",
    "Donde podemos encontrar la ecuacion:\n",
    "\n",
    "\\begin{equation}\n",
    "    \\ddot{\\theta} = \\frac{-g}{L}\\cos{\\theta} \n",
    "\\end{equation}\n",
    "\n",
    "Considerando $\\Omega^2 = \\frac{g}{L}$ entonces:\n",
    "\n",
    "\\begin{equation}\n",
    "    \\ddot{\\theta} = -\\Omega^2 \\sin{\\theta} \n",
    "\\end{equation}\n",
    "\n",
    "Considerando las condiciones iniciales $\\theta(0) = \\theta_0$ y $\\dot{\\theta} = \\omega_0$.\n",
    "\n",
    "Ahora queremos ver si las energias se conservan en nuestro modelo, entonces\n",
    "\n",
    "\\begin{align}\n",
    "    \\frac{d^2 \\theta}{dt} &= -\\sin{\\theta} \\\\\n",
    "    \\frac{d}{dt} \\left( \n",
    "\n",
    "\n",
    "\\end{align}\n",
    "\n"
   ]
  },
  {
   "cell_type": "markdown",
   "id": "97a2a350",
   "metadata": {},
   "source": []
  }
 ],
 "metadata": {
  "language_info": {
   "name": "python"
  }
 },
 "nbformat": 4,
 "nbformat_minor": 5
}
