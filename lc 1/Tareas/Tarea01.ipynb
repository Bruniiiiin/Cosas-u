{
 "cells": [
  {
   "cell_type": "markdown",
   "id": "ee39458a",
   "metadata": {},
   "source": [
    "#### Item 1\n",
    "##### a) Identifique y explique los errores sistemáticos y aleatorios presentes en este experimento.\n",
    "\n",
    "Podemos notar que existen los siguientes errores sistematicos en el experimento:\n",
    "* Errores instrumentales\n",
    "* Errores humanos\n",
    "* Errores de metodo de medida\n",
    "\n",
    "El error instrumental lo podemos ver en el uso de materiales no calibrados, como el cronometro y la cinta de medir.\n",
    "\n",
    "Los errores humanos estan presentes en el tiempo de reaccion del estudiante y su posicion, que afecta en que tan rapido presiona el boton para medir el tiempo.\n",
    "\n",
    "Y los errores presentes en los metodos de medida incluyen la falta de exactidud de la cinta metrica [cm] teniendo menos cifras significativas que el cronometro, la verdadera altura desde donde se deja caer la pelota ¿Se consideran 2 metros desde el inicio de la pelota o desde donde se sostiene?.\n",
    "\n",
    "Ahora en los errores aleatorios podriamos considerar el hecho de que un estudiante no siempre tiene el mismo desface cuando inicia el cronometro o cuando lo detiene, asi tambien no siempre se deja caer la pelota desde la misma altura exacta.\n",
    "\n",
    "##### b) Reporte el resultado de la medición del tiempo que tarda en caer la bola con su error correspondiente:\n",
    "\n",
    "Como buscamos estimar un valor real de cuanto tiempo demora en caer la pelota utilizaremos el error del promedio. \n",
    "\n",
    "Primero calculamos el promedio del tiempo:\n",
    "\n",
    "$\\begin(align)\n",
    "    \\overline{t} &= \\frac{1}{N} \\sum_{i=1}^{N} t_{i} \\\\  \n",
    "    \\overline{t} &= \\frac{1}{10} \\sum{i=1}^{10} t_{i} \\\\\n",
    " \\end(align)\n",
    "$"
   ]
  },
  {
   "cell_type": "markdown",
   "id": "92d72f29",
   "metadata": {},
   "source": []
  }
 ],
 "metadata": {
  "language_info": {
   "name": "python"
  }
 },
 "nbformat": 4,
 "nbformat_minor": 5
}
