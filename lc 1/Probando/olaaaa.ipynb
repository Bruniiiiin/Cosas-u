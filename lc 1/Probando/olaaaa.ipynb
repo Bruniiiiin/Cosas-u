{
 "cells": [
  {
   "cell_type": "code",
   "execution_count": 1,
   "id": "42363489-6543-4cbb-877f-8e8dd49b3061",
   "metadata": {},
   "outputs": [
    {
     "name": "stdout",
     "output_type": "stream",
     "text": [
      "hola mundo\n"
     ]
    }
   ],
   "source": [
    "print(\"hola mundo\")"
   ]
  },
  {
   "cell_type": "code",
   "execution_count": 2,
   "id": "a8e50c96-b738-4147-8815-c3025207c1ad",
   "metadata": {},
   "outputs": [],
   "source": [
    "import numpy as np"
   ]
  },
  {
   "cell_type": "code",
   "execution_count": 3,
   "id": "bd74d563-eada-4662-8e32-4f2bd6db49e9",
   "metadata": {},
   "outputs": [],
   "source": [
    "a = np.arange(1,5)"
   ]
  },
  {
   "cell_type": "code",
   "execution_count": 4,
   "id": "953e5fd4-449e-4fde-b7a0-05727fca3fd8",
   "metadata": {},
   "outputs": [
    {
     "name": "stdout",
     "output_type": "stream",
     "text": [
      "[1 2 3 4]\n"
     ]
    }
   ],
   "source": [
    "print(a)"
   ]
  },
  {
   "cell_type": "code",
   "execution_count": 5,
   "id": "36ee747a-0f0a-4f54-8b53-97ac30bb0db0",
   "metadata": {},
   "outputs": [
    {
     "name": "stdout",
     "output_type": "stream",
     "text": [
      "[10 20 30 40]\n"
     ]
    }
   ],
   "source": [
    "print(10*a)"
   ]
  },
  {
   "cell_type": "code",
   "execution_count": 6,
   "id": "dcf87fc2-6749-4cf7-9152-cf84ff3cd57f",
   "metadata": {},
   "outputs": [
    {
     "name": "stdout",
     "output_type": "stream",
     "text": [
      "[ 1  4  9 16]\n"
     ]
    }
   ],
   "source": [
    "print(a*a)"
   ]
  },
  {
   "cell_type": "code",
   "execution_count": 7,
   "id": "6bc85035-4f02-4abe-838a-1fed938720c1",
   "metadata": {},
   "outputs": [],
   "source": [
    "b = np.arange(2,6)"
   ]
  },
  {
   "cell_type": "code",
   "execution_count": 8,
   "id": "f1e86150-767b-4723-aa66-d900097248a9",
   "metadata": {},
   "outputs": [
    {
     "name": "stdout",
     "output_type": "stream",
     "text": [
      "[ 2  6 12 20]\n"
     ]
    }
   ],
   "source": [
    "print(a*b)"
   ]
  },
  {
   "cell_type": "code",
   "execution_count": 9,
   "id": "835d6a13-0b59-4f99-be81-6bcaeb44af27",
   "metadata": {},
   "outputs": [
    {
     "name": "stdout",
     "output_type": "stream",
     "text": [
      "[   1    8   81 1024]\n"
     ]
    }
   ],
   "source": [
    "print(a**b)"
   ]
  },
  {
   "cell_type": "code",
   "execution_count": 10,
   "id": "bde775b1-c3cd-46ab-a07c-7234031c006c",
   "metadata": {},
   "outputs": [
    {
     "name": "stdout",
     "output_type": "stream",
     "text": [
      "[ 0.54030231 -0.41614684 -0.9899925  -0.65364362]\n"
     ]
    }
   ],
   "source": [
    "print(np.cos(a))"
   ]
  },
  {
   "cell_type": "code",
   "execution_count": 11,
   "id": "4e12cc20-a894-490b-9ffc-e19e4d89bdb2",
   "metadata": {},
   "outputs": [
    {
     "name": "stdout",
     "output_type": "stream",
     "text": [
      "-0.9999987317275395\n"
     ]
    }
   ],
   "source": [
    "print(np.cos(3.14))"
   ]
  },
  {
   "cell_type": "code",
   "execution_count": 12,
   "id": "f4d141ee",
   "metadata": {},
   "outputs": [],
   "source": [
    "x0 = np.array([0,0,1])\n",
    "v0 = np.array([1,-1,4])\n",
    "g = np.array([0,0,-9.8])"
   ]
  },
  {
   "cell_type": "code",
   "execution_count": 13,
   "id": "7a829110-6228-4eb7-a4ac-8e7376a5529f",
   "metadata": {},
   "outputs": [],
   "source": [
    "t=2"
   ]
  },
  {
   "cell_type": "code",
   "execution_count": 14,
   "id": "14793dfc-92de-4a14-87ec-ee1d3c993f8b",
   "metadata": {},
   "outputs": [],
   "source": [
    "x= x0 + v0*t + 0.5*g*t**2"
   ]
  },
  {
   "cell_type": "code",
   "execution_count": 15,
   "id": "0ccda0de-e50d-4e31-be88-af732b08b2fe",
   "metadata": {},
   "outputs": [
    {
     "name": "stdout",
     "output_type": "stream",
     "text": [
      "[  2.   -2.  -10.6]\n"
     ]
    }
   ],
   "source": [
    "print(x)"
   ]
  },
  {
   "cell_type": "code",
   "execution_count": 16,
   "id": "6a6d4826-06f9-40f5-bc00-2d303f37bbde",
   "metadata": {},
   "outputs": [],
   "source": [
    "import numpy as np"
   ]
  },
  {
   "cell_type": "code",
   "execution_count": 17,
   "id": "103351ab-5676-4a0f-a294-8de5aebe6cca",
   "metadata": {},
   "outputs": [
    {
     "name": "stdout",
     "output_type": "stream",
     "text": [
      "[6.  4.5 8.  0. ]\n",
      "[18.  13.5 24.   0. ]\n"
     ]
    }
   ],
   "source": [
    "a1 = np.array([6, 4.5, 8, 0])\n",
    "print(a1)\n",
    "print(3*a1)"
   ]
  },
  {
   "cell_type": "code",
   "execution_count": 18,
   "id": "96da7cd3-babe-465b-9246-b15b1a5232fe",
   "metadata": {},
   "outputs": [
    {
     "name": "stdout",
     "output_type": "stream",
     "text": [
      "[10.   9.5  9.   8.5  8.   7.5  7.   6.5  6.   5.5  5.   4.5  4.   3.5\n",
      "  3.   2.5  2.   1.5]\n"
     ]
    }
   ],
   "source": [
    "a2 = np.arange(10, 1, -0.5)\n",
    "print(a2)"
   ]
  },
  {
   "cell_type": "code",
   "execution_count": 19,
   "id": "517dfc4d-96b1-4be1-8409-fcfe1c6dfa28",
   "metadata": {},
   "outputs": [
    {
     "name": "stdout",
     "output_type": "stream",
     "text": [
      "[ 0.          0.71428571  1.42857143  2.14285714  2.85714286  3.57142857\n",
      "  4.28571429  5.          5.71428571  6.42857143  7.14285714  7.85714286\n",
      "  8.57142857  9.28571429 10.        ]\n"
     ]
    }
   ],
   "source": [
    "a3 = np.linspace(0, 10, 15)\n",
    "print(a3)"
   ]
  },
  {
   "cell_type": "code",
   "execution_count": 20,
   "id": "ae072758-d30e-4ecd-81a6-3359cc9eb750",
   "metadata": {},
   "outputs": [
    {
     "name": "stdout",
     "output_type": "stream",
     "text": [
      "[3 5 2 1 6 3 6 2 2 1]\n"
     ]
    }
   ],
   "source": [
    "a4 = np.random.randint(1, 7, 10)\n",
    "print(a4)"
   ]
  },
  {
   "cell_type": "code",
   "execution_count": 21,
   "id": "eadaf7ed-c930-493e-8c1c-fc6e0527ce57",
   "metadata": {},
   "outputs": [
    {
     "name": "stdout",
     "output_type": "stream",
     "text": [
      "[[0.20407331 0.80800025 0.3701027 ]\n",
      " [0.47344526 0.80821287 0.9489059 ]\n",
      " [0.52305839 0.95002359 0.44509284]\n",
      " [0.66782779 0.52108245 0.95773682]\n",
      " [0.25103123 0.12214254 0.39706269]\n",
      " [0.85972062 0.53862885 0.58393429]]\n"
     ]
    }
   ],
   "source": [
    "a5 = np.random.rand(6, 3)\n",
    "print(a5)"
   ]
  },
  {
   "cell_type": "code",
   "execution_count": 22,
   "id": "6fb6d1c7-6b01-4a4d-9256-226e1e267c4d",
   "metadata": {},
   "outputs": [
    {
     "name": "stdout",
     "output_type": "stream",
     "text": [
      "1.1791702703323115\n"
     ]
    }
   ],
   "source": [
    "a6 = np.random.randn()\n",
    "print(a6)"
   ]
  },
  {
   "cell_type": "code",
   "execution_count": 23,
   "id": "4c3550e7-cf87-4947-a1eb-297a78ecc1d7",
   "metadata": {},
   "outputs": [],
   "source": [
    "datos = np.genfromtxt(\"datos.txt\")"
   ]
  },
  {
   "cell_type": "code",
   "execution_count": 24,
   "id": "e579d18b-6784-4194-a301-2436fdfb0cf8",
   "metadata": {},
   "outputs": [
    {
     "name": "stdout",
     "output_type": "stream",
     "text": [
      "[[0.1   0.738]\n",
      " [0.25  0.826]\n",
      " [0.41  0.981]\n",
      " [0.56  0.974]\n",
      " [0.71  0.915]\n",
      " [0.86  0.897]\n",
      " [1.02  0.739]\n",
      " [1.17  0.785]\n",
      " [1.32  0.635]\n",
      " [1.47  0.52 ]\n",
      " [1.63  0.49 ]\n",
      " [1.78  0.428]\n",
      " [1.93  0.497]\n",
      " [2.08  0.355]\n",
      " [2.24  0.359]\n",
      " [2.39  0.328]\n",
      " [2.54  0.44 ]\n",
      " [2.69  0.441]\n",
      " [2.85  0.433]\n",
      " [3.    0.419]]\n"
     ]
    }
   ],
   "source": [
    "print(datos)"
   ]
  },
  {
   "cell_type": "code",
   "execution_count": 25,
   "id": "0651166d-cd74-4885-b663-de2ce3598340",
   "metadata": {},
   "outputs": [
    {
     "data": {
      "text/plain": [
       "(20, 2)"
      ]
     },
     "execution_count": 25,
     "metadata": {},
     "output_type": "execute_result"
    }
   ],
   "source": [
    "np.shape(datos)"
   ]
  },
  {
   "cell_type": "code",
   "execution_count": 26,
   "id": "13acab40-eea1-44d1-b8d8-a0f07af13aa2",
   "metadata": {},
   "outputs": [
    {
     "name": "stdout",
     "output_type": "stream",
     "text": [
      "4.625\n"
     ]
    }
   ],
   "source": [
    "print(np.mean(a1))"
   ]
  },
  {
   "cell_type": "code",
   "execution_count": 27,
   "id": "96cd59ff-4c12-49d7-b55e-1ada8dbd5646",
   "metadata": {},
   "outputs": [
    {
     "name": "stdout",
     "output_type": "stream",
     "text": [
      "0.6100000000000001\n"
     ]
    }
   ],
   "source": [
    "print(np.mean(datos[:,1]))"
   ]
  },
  {
   "cell_type": "code",
   "execution_count": 30,
   "id": "4738ac1e-6c0f-483b-9195-f036f507ad5e",
   "metadata": {},
   "outputs": [],
   "source": [
    "x = datos[:,0]\n",
    "y = datos[:,1]\n",
    "import matplotlib.pyplot as plt\n",
    "plt.style.use('bmh')"
   ]
  },
  {
   "cell_type": "code",
   "execution_count": 36,
   "id": "0431f05a-c658-4001-8499-f0a012dcacf0",
   "metadata": {},
   "outputs": [
    {
     "data": {
      "image/png": "[encoded data removed]",
      "text/plain": [
       "<Figure size 640x480 with 1 Axes>"
      ]
     },
     "metadata": {},
     "output_type": "display_data"
    }
   ],
   "source": [
    "plt.scatter(x,y, color='orange', marker='*')\n",
    "plt.xlabel('Tiempo[s]')\n",
    "plt.ylabel('Metros[m]')\n",
    "plt.title('oña')\n",
    "plt.grid(True)"
   ]
  },
  {
   "cell_type": "code",
   "execution_count": null,
   "id": "5ecf01a6-5bc3-4ab2-9c38-557ac352ea88",
   "metadata": {},
   "outputs": [],
   "source": []
  }
 ],
 "metadata": {
  "kernelspec": {
   "display_name": "Python 3 (ipykernel)",
   "language": "python",
   "name": "python3"
  },
  "language_info": {
   "codemirror_mode": {
    "name": "ipython",
    "version": 3
   },
   "file_extension": ".py",
   "mimetype": "text/x-python",
   "name": "python",
   "nbconvert_exporter": "python",
   "pygments_lexer": "ipython3",
   "version": "3.13.6"
  }
 },
 "nbformat": 4,
 "nbformat_minor": 5
}
